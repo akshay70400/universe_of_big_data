{
 "cells": [
  {
   "cell_type": "markdown",
   "id": "a3158ff0-d87f-48ec-a87a-2920ca4bb297",
   "metadata": {},
   "source": []
  },
  {
   "cell_type": "markdown",
   "id": "5020df52-f0d0-470f-b9c5-ea6d077d4d4c",
   "metadata": {},
   "source": []
  },
  {
   "cell_type": "markdown",
   "id": "7e393a61-e94a-4a8e-897e-4b221c525925",
   "metadata": {},
   "source": []
  },
  {
   "cell_type": "markdown",
   "id": "5ef2948f-9c34-499d-9fdc-8c850a59db6a",
   "metadata": {},
   "source": []
  },
  {
   "cell_type": "markdown",
   "id": "4e2bc9a0-59f9-4090-98b2-2428c827201c",
   "metadata": {},
   "source": []
  },
  {
   "cell_type": "markdown",
   "id": "bde6b707-cd1c-43fc-9107-2ddde580fc2c",
   "metadata": {},
   "source": []
  },
  {
   "cell_type": "markdown",
   "id": "8c8a7907-ec03-4692-9864-9fae9c45ba7c",
   "metadata": {},
   "source": [
    "# <mark>RDD vs DataFrame\n",
    "\n",
    "rdd || df\n"
   ]
  }
 ],
 "metadata": {
  "kernelspec": {
   "display_name": "Python 3 (ipykernel)",
   "language": "python",
   "name": "python3"
  },
  "language_info": {
   "codemirror_mode": {
    "name": "ipython",
    "version": 3
   },
   "file_extension": ".py",
   "mimetype": "text/x-python",
   "name": "python",
   "nbconvert_exporter": "python",
   "pygments_lexer": "ipython3",
   "version": "3.9.13"
  }
 },
 "nbformat": 4,
 "nbformat_minor": 5
}
